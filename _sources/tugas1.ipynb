{
  "cells": [
    {
      "cell_type": "markdown",
      "source": [
        "# Mengukur Jarak Disimilarity (Tugas 1)\n",
        "\n"
      ],
      "metadata": {
        "id": "3P4CzlUZENzI"
      }
    },
    {
      "cell_type": "markdown",
      "source": [
        "**DATA MINING**\n",
        "\n",
        "**# Pengertian Data mining**\n",
        "\n",
        "Data mining yaitu suatu alat dan aplikasi menggunakan analisis statistik pada data dengan jumlah yang besar dan cepat dimana Data minig ini melakukan suatu proses ekstraksi atau penggalian data dan informasi yang besar dan belum diketahui sebelumnya\n",
        "\n",
        "Data mining menggambarkan sebuah pengumpulan teknik-teknik dengan tujuan untuk menemukan pola-pola yang tidak diketahui pada data yang telah dikumpulkan dimana data mining ini melakukan sebuah proses percarian secara otomatis informasi yang berguna dalam tempat penyimpanan data berukuran besar dan teknik dalam data mining digunakan untuk memeriksa basis data berukuran besar sebagai cara untuk menemukan pola yang baru dan berguna.\n",
        "\n",
        "**# Fungsi Data Mining**\n",
        "\n",
        "\n",
        "1.   Descriptive\\\n",
        "Fungsi deskripsi dalam data mining adalah sebuah fungsi untuk memahami lebih jauh tentang data yang diamati. Dengan menggunakan Fungsi descriptive Data mining, Maka nantinya bisa menemukan pola tertentu yang tersembunyi dalam sebuah data. Dengan kata lain jika pola yang berulang dan bernilai itulah karakteristik sebuah data bisa diketahui.\n",
        "2.   Predictive\\\n",
        "Fungsi prediksi merupakan sebuah fungsi bagaimana sebuah proses nantinya akan menemukan pola tertentu dari suatu data. Pola-pola tersebut dapat diketahui dari berbagai variabel-variabel yang ada pada data. Ketika sudah menemukan pola, Maka pola yang didapat tersebut bisa digunakan untuk memprediksi variabel lain yang belum diketahui nilai ataupun jenisnya. Karena itulah fungsi satu ini dikatakan sebagai fungsi prediksi sama halnya dengan melakukan predictive analisis. Fungsi ini juga bisa digunakan untuk memprediksi sebuah variabel tertentu yang tidak ada dalam suatu data.\\\n",
        "Sehingga fungsi ini memudahkan dan menguntungkan bagi siapapun yang memerlukan prediksi yang akurat untuk membuat hal penting tersebut menjadi lebih baik.\n",
        "\n",
        "\n",
        "**# Macam-Macam Data**\n",
        "\n",
        "\n",
        "\n",
        "*   **Data Terstruktur**\\\n",
        "yaitu data yang bergantung pada model data dan yang dinyatakan dalam bentuk tabel dengan atribut} (kolom) dan baris. Data terstruktur mudah disimpan dalam database dalam bentuk tabel atau file excel (Ms Office), SQl (structure Query Language)sehingga mudah dilakukan query terhadap data tersebut. Tetapi realitanya banyak data yang ada dalam dalam bentuk data tidak terstruktur karena data dihasilkan oleh manusia dan mesin\n",
        "*   **Data Tidak Terstruktur**\\\n",
        "yaitu data yang tidak mudah dimasukkan ke dalam model data karena isi/kontennya spesifik atau bervariasi. Salah satu contoh data tidak terstruktur adalah data email. Meskipun email berisi elemen terstruktur seperti pengirim, judul, dan isi teks, terlalu banyak variasi dari isi yang terkandung dalamnya diantaranya dialek bahasa yang dipakai dan sebagainya.\n",
        "\n",
        "\n",
        "\n",
        "**# Macam-Macam Attribute Data**\\\n",
        "Attribut yaitu data yang mewakili karakteristik atau fitur dari objek data. Atribut bisa disebut juga dengan dimensi, fitur, dan variabel yang istilah itu sering digunakan literatur. Dalam literatur pembelajaran mesin cenderung menggunakan istilah fitur, sementara dalam bidang statistik lebih memilih menggunakan istilah variabel. Sekumpulan atribut yang digunakan untuk menggambarkan objek disebut disebut dengan vektor atribut atau vektor fitur, jenis atribut ditentukan oleh nilai-nilai pada atribut tersebut yang mungkin nominal, biner,atau ordinal, atau numerik.\n",
        "\n",
        "**Tipe Data Attribute**\n",
        "\n",
        "*   **Nominal**\\\n",
        "Yaitu data yang menyatakan kategori, keadaan atau nama suatu hal.\\\n",
        "Contoh : nama, alamat, warna rambut, status, kodepos, nrp, dll.\\\n",
        "Rumus Perhitungan :\\\n",
        "$$ d(i,j)=\\frac{p - m}p $$\\\n",
        "p = total label/ class nominal\\\n",
        "m = banyaknya data\n",
        "*   **Binary**\\\n",
        "Yaitu attribute nominal yang hanya memiliki 2 keadaan yaitu 0 dan 1.\\\n",
        "data binary di bagi menjadi 2 yaitu :\n",
        "  - Symetric Binary (data yang keduanya sama penting)\\\n",
        "  Contoh : jenis kelamin\n",
        "  - Asymetric Binary (data yang keduanya tidak sama penting)\\\n",
        "  Contoh : medical test (positive atau negative) dimana dinyatakan dengan 1 untuk menyatakan hal yang lebih penting ( positif HIV)\n",
        "  \n",
        "  Rumus Perhitungan :\\\n",
        "  $$d(i,j)=\\frac{r + s}{q+r+s+t} $$\n",
        "*   **Ordinal**\\\n",
        "Yaitu data yang memiliki arti secara berurutan, (ranking) tetapi tidak\n",
        "dinyatakan dengan besaran angka atau nilai.\\\n",
        "Contoh : Size = {small, medium, large}, kelas, pangkat\n",
        "\n",
        "  Rumus Perhitungan :\\\n",
        "  $$Z_{if}=\\frac{r_{if}-1}{M_f-1}$$\n",
        "*   **Numerik**\\\n",
        "Yaitu data memiliki kuantitas (integer atau nilai real), data tersebut terdiri dari 2 bentuk yaitu :\n",
        "  >  - Interval-Scaled\n",
        "  >> - Diukur pada skala dengan unit satuan yang sama\n",
        "  >> - Nilai memiliki urutan\\\n",
        "  Contoh : tanggal kalender\n",
        "  >> - No true zero-point\n",
        "  >  - Ratio-Scaled\n",
        "  >> - Inherent zero-point\\\n",
        "  Contoh : Panjang, berat badan, dll\n",
        "  >> - Bisa mengatakan perkalian dari nilai objek data yang lain\\\n",
        "  Misal : panjang jalan A adalah 2 kali dari panjang jalan B\n",
        "\n",
        "  Rumus Perhitungan :\\\n",
        "  $$ d(i,j) = \\sqrt(|{x_{i1} - x_{j1}}|^2 + |{x_{i2} - x_{j2}}|^2 ) $$\n",
        "\n",
        "**# Dissimilarity**\\\n",
        "Dissimilarity adalah pengukuran numerik untuk menunjukkan seberapa berbeda dua obyek data.\\\n",
        "Metode yang digunakan untuk menghitung dissimilarity umumnya ada 2, yaitu Euclidean Distance (Jarak Euclidean) dan Minkowski Distance (Jarak Minkowski).\n",
        "  1. **Minkowski Distance**\\\n",
        "  Kelompk Minkowski diantaranya adalah Euclidean distance dan Manhattan distance, yang menjadi kasus khusus dari Minkowski distance.\\\n",
        "  Rumus :\\\n",
        "  $$d_{min}=(sum_{i=1}^{n}|x_i-y_i|^{m})^{1/m},m\\geq 1$$\\\n",
        "  m = bilangan riel positif\\\n",
        "  x_i dan y_i = dua vektor dalam runang dimensi\\\n",
        "  n = Implementasi ukuran jarak Minkowski pada model clustering data atribut dilakukan normalisasi untuk menghindari dominasi dari atribut yang memiliki skala data besar\n",
        "  2. **Euclidean distance**\\\n",
        "  Euclidean distance digunkan untuk kasus khusus dari jarak Minkowski ketika m = 2, dan jarak ini adalah jarak yang paling terkenal yang digunakan untuk data numerik.\\\n",
        "  Rumus :\\\n",
        "  $$ dist=\\sqrt{\\sum_{k=1}^n (p_k - q_k)} $$\n",
        "  \n",
        "\n",
        "\n"
      ],
      "metadata": {
        "id": "8BJRqeGLBUl7"
      }
    },
    {
      "cell_type": "markdown",
      "metadata": {
        "id": "yfpI2EhoUpFx"
      },
      "source": [
        "**TUGAS**\n",
        "\n",
        "Carilah data bisa ambil data dari kaggle atau github\\\n",
        "kemudian hitung jarak disimilarity\n",
        "1. Ukur jarak d(1,2), d(1,3), d(1,4) dari data tersebut"
      ]
    },
    {
      "cell_type": "markdown",
      "source": [
        "IMPORT LIBRARY PYTHON YANG DI BUTUHKAN\n",
        "- Pandas\\\n",
        "yaitu sebuah library yang digunakan untuk menganalisis data dimana lebih tepatnya digunakan untuk mengatur tata letak data sehingga mudah dicari secara intuitif\n",
        "- numpy\\\n",
        "yaitu library yang digunakan untuk membuat objek kelas array tunggal dan multidimensi sehingga fungsi ini menudahkan kita dalam menangani data yang terdiri dari array.\n",
        "- math\\\n",
        "yaitu untuk melakukan perhitungan secara matematika dan mendefinisikan fungsi matematika secara umum.\n"
      ],
      "metadata": {
        "id": "t_ZYpnBQ-mWV"
      }
    },
    {
      "cell_type": "code",
      "execution_count": null,
      "metadata": {
        "id": "r3jHGpOXT_CY"
      },
      "outputs": [],
      "source": [
        "# import library\n",
        "import numpy as np\n",
        "import pandas as pd\n",
        "import math"
      ]
    },
    {
      "cell_type": "code",
      "execution_count": null,
      "metadata": {
        "colab": {
          "base_uri": "https://localhost:8080/",
          "height": 424
        },
        "id": "xFhDHHA-ULC4",
        "outputId": "c022ec82-3f59-47bc-ac82-7a7c165ebe36"
      },
      "outputs": [
        {
          "output_type": "execute_result",
          "data": {
            "text/plain": [
              "     Unnamed: 0                                 Address      Zip     Price  \\\n",
              "0             1            Blasiusstraat 8 2, Amsterdam  1091 CR  685000.0   \n",
              "1             2  Kromme Leimuidenstraat 13 H, Amsterdam  1059 EL  475000.0   \n",
              "2             3              Zaaiersweg 11 A, Amsterdam  1097 SM  850000.0   \n",
              "3             4            Tenerifestraat 40, Amsterdam  1060 TH  580000.0   \n",
              "4             5              Winterjanpad 21, Amsterdam  1036 KN  720000.0   \n",
              "..          ...                                     ...      ...       ...   \n",
              "919         920                     Ringdijk, Amsterdam  1097 AE  750000.0   \n",
              "920         921         Kleine Beerstraat 31, Amsterdam  1033 CP  350000.0   \n",
              "921         922       Stuyvesantstraat 33 II, Amsterdam  1058 AK  350000.0   \n",
              "922         923   John Blankensteinstraat 51, Amsterdam  1095 MB  599000.0   \n",
              "923         924      S. F. van Ossstraat 334, Amsterdam  1068 JS  300000.0   \n",
              "\n",
              "     Area  Room       Lon        Lat  \n",
              "0      64     3  4.907736  52.356157  \n",
              "1      60     3  4.850476  52.348586  \n",
              "2     109     4  4.944774  52.343782  \n",
              "3     128     6  4.789928  52.343712  \n",
              "4     138     5  4.902503  52.410538  \n",
              "..    ...   ...       ...        ...  \n",
              "919   117     1  4.927757  52.354173  \n",
              "920    72     3  4.890612  52.414587  \n",
              "921    51     3  4.856935  52.363256  \n",
              "922   113     4  4.965731  52.375268  \n",
              "923    79     4  4.810678  52.355493  \n",
              "\n",
              "[924 rows x 8 columns]"
            ],
            "text/html": [
              "\n",
              "  <div id=\"df-79e86eb1-8a66-4429-9bcf-8bbc049763b5\">\n",
              "    <div class=\"colab-df-container\">\n",
              "      <div>\n",
              "<style scoped>\n",
              "    .dataframe tbody tr th:only-of-type {\n",
              "        vertical-align: middle;\n",
              "    }\n",
              "\n",
              "    .dataframe tbody tr th {\n",
              "        vertical-align: top;\n",
              "    }\n",
              "\n",
              "    .dataframe thead th {\n",
              "        text-align: right;\n",
              "    }\n",
              "</style>\n",
              "<table border=\"1\" class=\"dataframe\">\n",
              "  <thead>\n",
              "    <tr style=\"text-align: right;\">\n",
              "      <th></th>\n",
              "      <th>Unnamed: 0</th>\n",
              "      <th>Address</th>\n",
              "      <th>Zip</th>\n",
              "      <th>Price</th>\n",
              "      <th>Area</th>\n",
              "      <th>Room</th>\n",
              "      <th>Lon</th>\n",
              "      <th>Lat</th>\n",
              "    </tr>\n",
              "  </thead>\n",
              "  <tbody>\n",
              "    <tr>\n",
              "      <th>0</th>\n",
              "      <td>1</td>\n",
              "      <td>Blasiusstraat 8 2, Amsterdam</td>\n",
              "      <td>1091 CR</td>\n",
              "      <td>685000.0</td>\n",
              "      <td>64</td>\n",
              "      <td>3</td>\n",
              "      <td>4.907736</td>\n",
              "      <td>52.356157</td>\n",
              "    </tr>\n",
              "    <tr>\n",
              "      <th>1</th>\n",
              "      <td>2</td>\n",
              "      <td>Kromme Leimuidenstraat 13 H, Amsterdam</td>\n",
              "      <td>1059 EL</td>\n",
              "      <td>475000.0</td>\n",
              "      <td>60</td>\n",
              "      <td>3</td>\n",
              "      <td>4.850476</td>\n",
              "      <td>52.348586</td>\n",
              "    </tr>\n",
              "    <tr>\n",
              "      <th>2</th>\n",
              "      <td>3</td>\n",
              "      <td>Zaaiersweg 11 A, Amsterdam</td>\n",
              "      <td>1097 SM</td>\n",
              "      <td>850000.0</td>\n",
              "      <td>109</td>\n",
              "      <td>4</td>\n",
              "      <td>4.944774</td>\n",
              "      <td>52.343782</td>\n",
              "    </tr>\n",
              "    <tr>\n",
              "      <th>3</th>\n",
              "      <td>4</td>\n",
              "      <td>Tenerifestraat 40, Amsterdam</td>\n",
              "      <td>1060 TH</td>\n",
              "      <td>580000.0</td>\n",
              "      <td>128</td>\n",
              "      <td>6</td>\n",
              "      <td>4.789928</td>\n",
              "      <td>52.343712</td>\n",
              "    </tr>\n",
              "    <tr>\n",
              "      <th>4</th>\n",
              "      <td>5</td>\n",
              "      <td>Winterjanpad 21, Amsterdam</td>\n",
              "      <td>1036 KN</td>\n",
              "      <td>720000.0</td>\n",
              "      <td>138</td>\n",
              "      <td>5</td>\n",
              "      <td>4.902503</td>\n",
              "      <td>52.410538</td>\n",
              "    </tr>\n",
              "    <tr>\n",
              "      <th>...</th>\n",
              "      <td>...</td>\n",
              "      <td>...</td>\n",
              "      <td>...</td>\n",
              "      <td>...</td>\n",
              "      <td>...</td>\n",
              "      <td>...</td>\n",
              "      <td>...</td>\n",
              "      <td>...</td>\n",
              "    </tr>\n",
              "    <tr>\n",
              "      <th>919</th>\n",
              "      <td>920</td>\n",
              "      <td>Ringdijk, Amsterdam</td>\n",
              "      <td>1097 AE</td>\n",
              "      <td>750000.0</td>\n",
              "      <td>117</td>\n",
              "      <td>1</td>\n",
              "      <td>4.927757</td>\n",
              "      <td>52.354173</td>\n",
              "    </tr>\n",
              "    <tr>\n",
              "      <th>920</th>\n",
              "      <td>921</td>\n",
              "      <td>Kleine Beerstraat 31, Amsterdam</td>\n",
              "      <td>1033 CP</td>\n",
              "      <td>350000.0</td>\n",
              "      <td>72</td>\n",
              "      <td>3</td>\n",
              "      <td>4.890612</td>\n",
              "      <td>52.414587</td>\n",
              "    </tr>\n",
              "    <tr>\n",
              "      <th>921</th>\n",
              "      <td>922</td>\n",
              "      <td>Stuyvesantstraat 33 II, Amsterdam</td>\n",
              "      <td>1058 AK</td>\n",
              "      <td>350000.0</td>\n",
              "      <td>51</td>\n",
              "      <td>3</td>\n",
              "      <td>4.856935</td>\n",
              "      <td>52.363256</td>\n",
              "    </tr>\n",
              "    <tr>\n",
              "      <th>922</th>\n",
              "      <td>923</td>\n",
              "      <td>John Blankensteinstraat 51, Amsterdam</td>\n",
              "      <td>1095 MB</td>\n",
              "      <td>599000.0</td>\n",
              "      <td>113</td>\n",
              "      <td>4</td>\n",
              "      <td>4.965731</td>\n",
              "      <td>52.375268</td>\n",
              "    </tr>\n",
              "    <tr>\n",
              "      <th>923</th>\n",
              "      <td>924</td>\n",
              "      <td>S. F. van Ossstraat 334, Amsterdam</td>\n",
              "      <td>1068 JS</td>\n",
              "      <td>300000.0</td>\n",
              "      <td>79</td>\n",
              "      <td>4</td>\n",
              "      <td>4.810678</td>\n",
              "      <td>52.355493</td>\n",
              "    </tr>\n",
              "  </tbody>\n",
              "</table>\n",
              "<p>924 rows × 8 columns</p>\n",
              "</div>\n",
              "      <button class=\"colab-df-convert\" onclick=\"convertToInteractive('df-79e86eb1-8a66-4429-9bcf-8bbc049763b5')\"\n",
              "              title=\"Convert this dataframe to an interactive table.\"\n",
              "              style=\"display:none;\">\n",
              "        \n",
              "  <svg xmlns=\"http://www.w3.org/2000/svg\" height=\"24px\"viewBox=\"0 0 24 24\"\n",
              "       width=\"24px\">\n",
              "    <path d=\"M0 0h24v24H0V0z\" fill=\"none\"/>\n",
              "    <path d=\"M18.56 5.44l.94 2.06.94-2.06 2.06-.94-2.06-.94-.94-2.06-.94 2.06-2.06.94zm-11 1L8.5 8.5l.94-2.06 2.06-.94-2.06-.94L8.5 2.5l-.94 2.06-2.06.94zm10 10l.94 2.06.94-2.06 2.06-.94-2.06-.94-.94-2.06-.94 2.06-2.06.94z\"/><path d=\"M17.41 7.96l-1.37-1.37c-.4-.4-.92-.59-1.43-.59-.52 0-1.04.2-1.43.59L10.3 9.45l-7.72 7.72c-.78.78-.78 2.05 0 2.83L4 21.41c.39.39.9.59 1.41.59.51 0 1.02-.2 1.41-.59l7.78-7.78 2.81-2.81c.8-.78.8-2.07 0-2.86zM5.41 20L4 18.59l7.72-7.72 1.47 1.35L5.41 20z\"/>\n",
              "  </svg>\n",
              "      </button>\n",
              "      \n",
              "  <style>\n",
              "    .colab-df-container {\n",
              "      display:flex;\n",
              "      flex-wrap:wrap;\n",
              "      gap: 12px;\n",
              "    }\n",
              "\n",
              "    .colab-df-convert {\n",
              "      background-color: #E8F0FE;\n",
              "      border: none;\n",
              "      border-radius: 50%;\n",
              "      cursor: pointer;\n",
              "      display: none;\n",
              "      fill: #1967D2;\n",
              "      height: 32px;\n",
              "      padding: 0 0 0 0;\n",
              "      width: 32px;\n",
              "    }\n",
              "\n",
              "    .colab-df-convert:hover {\n",
              "      background-color: #E2EBFA;\n",
              "      box-shadow: 0px 1px 2px rgba(60, 64, 67, 0.3), 0px 1px 3px 1px rgba(60, 64, 67, 0.15);\n",
              "      fill: #174EA6;\n",
              "    }\n",
              "\n",
              "    [theme=dark] .colab-df-convert {\n",
              "      background-color: #3B4455;\n",
              "      fill: #D2E3FC;\n",
              "    }\n",
              "\n",
              "    [theme=dark] .colab-df-convert:hover {\n",
              "      background-color: #434B5C;\n",
              "      box-shadow: 0px 1px 3px 1px rgba(0, 0, 0, 0.15);\n",
              "      filter: drop-shadow(0px 1px 2px rgba(0, 0, 0, 0.3));\n",
              "      fill: #FFFFFF;\n",
              "    }\n",
              "  </style>\n",
              "\n",
              "      <script>\n",
              "        const buttonEl =\n",
              "          document.querySelector('#df-79e86eb1-8a66-4429-9bcf-8bbc049763b5 button.colab-df-convert');\n",
              "        buttonEl.style.display =\n",
              "          google.colab.kernel.accessAllowed ? 'block' : 'none';\n",
              "\n",
              "        async function convertToInteractive(key) {\n",
              "          const element = document.querySelector('#df-79e86eb1-8a66-4429-9bcf-8bbc049763b5');\n",
              "          const dataTable =\n",
              "            await google.colab.kernel.invokeFunction('convertToInteractive',\n",
              "                                                     [key], {});\n",
              "          if (!dataTable) return;\n",
              "\n",
              "          const docLinkHtml = 'Like what you see? Visit the ' +\n",
              "            '<a target=\"_blank\" href=https://colab.research.google.com/notebooks/data_table.ipynb>data table notebook</a>'\n",
              "            + ' to learn more about interactive tables.';\n",
              "          element.innerHTML = '';\n",
              "          dataTable['output_type'] = 'display_data';\n",
              "          await google.colab.output.renderOutput(dataTable, element);\n",
              "          const docLink = document.createElement('div');\n",
              "          docLink.innerHTML = docLinkHtml;\n",
              "          element.appendChild(docLink);\n",
              "        }\n",
              "      </script>\n",
              "    </div>\n",
              "  </div>\n",
              "  "
            ]
          },
          "metadata": {},
          "execution_count": 9
        }
      ],
      "source": [
        "#menampilkan data\n",
        "dt = pd.read_csv(\"https://raw.githubusercontent.com/AliGhufron-28/datamaining/main/HousingPrices-Amsterdam-August-2021.csv\")\n",
        "dt"
      ]
    },
    {
      "cell_type": "markdown",
      "source": [
        "**Menghitung Data Nominal**\n",
        "\n",
        "1. Mencari data dari label atau class yang bertipe data nominal yaitu :\\\n",
        "Address dan Zip\n",
        "\n",
        "2. Melakukan perhitungan \\\n",
        "Rumus perhitungan nominal : \\\n",
        "$$ d(i,j)=\\frac{p - m}p $$\\\n",
        "p = total label/ class nominal\\\n",
        "m = banyaknya data\n",
        "\n",
        "\n"
      ],
      "metadata": {
        "id": "uy2JoYcr_Mfa"
      }
    },
    {
      "cell_type": "code",
      "execution_count": null,
      "metadata": {
        "id": "C_UXW5oymlTX"
      },
      "outputs": [],
      "source": [
        "# Proximity Measure for Nominal Attributes\n",
        "def d1(i,j):\n",
        "    P = 2\n",
        "    M = 0\n",
        "    for col in [\"Address\",\"Zip\"]:\n",
        "        if dt[col][i] == dt[col][j]:\n",
        "            M += 1\n",
        "    return (P-M)/P"
      ]
    },
    {
      "cell_type": "code",
      "execution_count": null,
      "metadata": {
        "colab": {
          "base_uri": "https://localhost:8080/"
        },
        "id": "Fvo3eSYxnlqe",
        "outputId": "0fcd2915-555e-46e3-8224-3297e5c856b5"
      },
      "outputs": [
        {
          "output_type": "stream",
          "name": "stdout",
          "text": [
            "1.0\n",
            "1.0\n",
            "1.0\n"
          ]
        }
      ],
      "source": [
        "print(d1(1,2))\n",
        "print(d1(1,3))\n",
        "print(d1(1,4))"
      ]
    },
    {
      "cell_type": "markdown",
      "source": [
        "**Menghitung Data Numerik**\\\n",
        "\n",
        "1. Mencari data dengan label atau class yang bertipe numerik yaitu : \\\n",
        "Price, Area, Room, Lon, dan Lat\\\n",
        "2. Setelah itu melakukan perhitungan\\\n",
        "Rumus perhitungan numerik :\\\n",
        "$$ d(i,j) = \\sqrt(|{x_{i1} - x_{j1}}|^2 + |{x_{i2} - x_{j2}}|^2 ) $$"
      ],
      "metadata": {
        "id": "365l-xusV_jg"
      }
    },
    {
      "cell_type": "markdown",
      "source": [
        "Rumus Minkowski Distance:\\\n",
        "  $$d_{min}=(sum_{i=1}^{n}|x_i-y_i|^{m})^{1/m},m\\geq 1$$\\\n",
        "  m = bilangan riel positif\\\n",
        "  x_i dan y_i = dua vektor dalam runang dimensi\\\n",
        "  n = Implementasi ukuran jarak Minkowski pada model clustering data atribut dilakukan normalisasi untuk menghindari dominasi dari atribut yang memiliki skala data besar"
      ],
      "metadata": {
        "id": "MscssZrfr6DP"
      }
    },
    {
      "cell_type": "code",
      "execution_count": null,
      "metadata": {
        "id": "mIL8KiIDn3Za"
      },
      "outputs": [],
      "source": [
        "# Distance on Numeric Data: Minkowski Distance\n",
        "def d2(i,j, h):\n",
        "    result = 0\n",
        "    for col in [\"Price\",\"Area\",\"Room\",\"Lon\",\"Lat\"]:\n",
        "        result = math.pow(abs(dt[col][i] - dt[col][j]), h)\n",
        "    return result**(1/h)"
      ]
    },
    {
      "cell_type": "code",
      "execution_count": null,
      "metadata": {
        "colab": {
          "base_uri": "https://localhost:8080/"
        },
        "id": "gxSYZbVsn3pB",
        "outputId": "8727fe4f-925e-467b-a88e-76a62a5e46e0"
      },
      "outputs": [
        {
          "output_type": "stream",
          "name": "stdout",
          "text": [
            "0.0048040000000000305\n",
            "0.004874000000000933\n",
            "0.061952000000005114\n"
          ]
        }
      ],
      "source": [
        "# Manhattan distance\n",
        "print(d2(1,2,1))\n",
        "print(d2(1,3,1))\n",
        "print(d2(1,4,1))"
      ]
    },
    {
      "cell_type": "markdown",
      "source": [
        "Rumus Euclidean distance :\\\n",
        "  $$ dist=\\sqrt{\\sum_{k=1}^n (p_k - q_k)} $$"
      ],
      "metadata": {
        "id": "fCndIgOMYBuv"
      }
    },
    {
      "cell_type": "code",
      "execution_count": null,
      "metadata": {
        "id": "UeZZ3Jvfn4HT",
        "colab": {
          "base_uri": "https://localhost:8080/"
        },
        "outputId": "fad1cb02-a78b-4681-c46d-9c517a80a748"
      },
      "outputs": [
        {
          "output_type": "stream",
          "name": "stdout",
          "text": [
            "0.0048040000000000305\n",
            "0.004874000000000933\n",
            "0.061952000000005114\n"
          ]
        }
      ],
      "source": [
        "# Euclidean distance\n",
        "print(d2(1,2,2))\n",
        "print(d2(1,3,2))\n",
        "print(d2(1,4,2))"
      ]
    },
    {
      "cell_type": "markdown",
      "metadata": {
        "id": "0eVZ63JKqZsS"
      },
      "source": [
        "**Disimilarity**\n",
        "\n",
        "Menghitung jarak disimilarity dari dataset dengan menghitung data dari nominal kemudian di jumlah dengan data numerik dengan memasukan data yang sudah di tentukan di soal\n"
      ]
    },
    {
      "cell_type": "code",
      "execution_count": null,
      "metadata": {
        "id": "TdUNVvJzqdYA",
        "colab": {
          "base_uri": "https://localhost:8080/"
        },
        "outputId": "608e6e09-a102-4014-8453-0f03004e7d16"
      },
      "outputs": [
        {
          "output_type": "stream",
          "name": "stdout",
          "text": [
            "1.004804\n"
          ]
        }
      ],
      "source": [
        "# Jarak d(1,2)\n",
        "print(d1(1,2)+d2(1,2,1))"
      ]
    },
    {
      "cell_type": "code",
      "execution_count": null,
      "metadata": {
        "id": "3z502dv8qjrk",
        "colab": {
          "base_uri": "https://localhost:8080/"
        },
        "outputId": "a2a98d57-378c-41fa-f98a-a7aa84d779bb"
      },
      "outputs": [
        {
          "output_type": "stream",
          "name": "stdout",
          "text": [
            "1.004874000000001\n"
          ]
        }
      ],
      "source": [
        "# Jarak d(1,3)\n",
        "print(d1(1,3)+d2(1,3,1))"
      ]
    },
    {
      "cell_type": "code",
      "execution_count": null,
      "metadata": {
        "id": "CyOaeSkkqj3J",
        "colab": {
          "base_uri": "https://localhost:8080/"
        },
        "outputId": "fa244bb5-eb27-4da4-ae21-c9fdfdf2e814"
      },
      "outputs": [
        {
          "output_type": "stream",
          "name": "stdout",
          "text": [
            "1.0619520000000051\n"
          ]
        }
      ],
      "source": [
        "# Jarak d(1,4)\n",
        "print(d1(1,4)+d2(1,4,1))"
      ]
    }
  ],
  "metadata": {
    "colab": {
      "collapsed_sections": [],
      "provenance": []
    },
    "kernelspec": {
      "display_name": "Python 3",
      "language": "python",
      "name": "python3"
    },
    "language_info": {
      "codemirror_mode": {
        "name": "ipython",
        "version": 3
      },
      "file_extension": ".py",
      "mimetype": "text/x-python",
      "name": "python",
      "nbconvert_exporter": "python",
      "pygments_lexer": "ipython3",
      "version": "3.8.0"
    }
  },
  "nbformat": 4,
  "nbformat_minor": 0
}